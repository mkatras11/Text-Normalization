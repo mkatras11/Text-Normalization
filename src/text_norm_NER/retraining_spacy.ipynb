{
 "cells": [
  {
   "cell_type": "markdown",
   "metadata": {},
   "source": [
    "# Dependencies for training with GPU (transformer)\n",
    "\n",
    "To train the model with GPU, you need to install the following dependencies:"
   ]
  },
  {
   "cell_type": "code",
   "execution_count": null,
   "metadata": {},
   "outputs": [],
   "source": [
    "# Install CuPy (adjust based on your CUDA version)\n",
    "%pip install cupy-cuda12x"
   ]
  },
  {
   "cell_type": "code",
   "execution_count": null,
   "metadata": {},
   "outputs": [],
   "source": [
    "# Install PyTorch, torchvision, and torchaudio (adjust CUDA version if needed)\n",
    "%pip install torch torchvision torchaudio --index-url https://download.pytorch.org/whl/cu126"
   ]
  },
  {
   "cell_type": "markdown",
   "metadata": {},
   "source": [
    "# Generating the Configuration File\n",
    "\n",
    "To generate the configuration file, execute the following command:\n",
    "\n",
    "```bash\n",
    "!python -m spacy init fill-config /path/to/base_config_tagger.cfg /path/to/config.cfg\n",
    "```\n",
    "\n",
    "\n",
    "This command utilizes the spacy init fill-config module to create a configuration file named config.cfg. It fills in the base configuration from the file specified at /path/to/base_config_tagger.cfg, which contains initial settings and parameters for the SpaCy model training process.\n",
    "\n",
    "You can download a base_config_tagger.cfg file from the SpaCy website https://spacy.io/usage/training. After downloading the desired configuration file, specify its path as the base configuration file argument in the command. "
   ]
  },
  {
   "cell_type": "code",
   "execution_count": null,
   "metadata": {},
   "outputs": [
    {
     "name": "stdout",
     "output_type": "stream",
     "text": [
      "\u001b[38;5;2m✔ Auto-filled config with all values\u001b[0m\n",
      "\u001b[38;5;2m✔ Saved config\u001b[0m\n",
      "C:\\Users\\mikek\\projects\\Text-Normalization\\src\\text_norm_NER\\config.cfg\n",
      "You can now add your data and train your pipeline:\n",
      "python -m spacy train config.cfg --paths.train ./train.spacy --paths.dev ./dev.spacy\n"
     ]
    },
    {
     "name": "stderr",
     "output_type": "stream",
     "text": [
      "c:\\Users\\mikek\\projects\\Text-Normalization\\.venv\\Lib\\site-packages\\transformers\\utils\\generic.py:441: FutureWarning: `torch.utils._pytree._register_pytree_node` is deprecated. Please use `torch.utils._pytree.register_pytree_node` instead.\n",
      "  _torch_pytree._register_pytree_node(\n",
      "c:\\Users\\mikek\\projects\\Text-Normalization\\.venv\\Lib\\site-packages\\transformers\\utils\\generic.py:309: FutureWarning: `torch.utils._pytree._register_pytree_node` is deprecated. Please use `torch.utils._pytree.register_pytree_node` instead.\n",
      "  _torch_pytree._register_pytree_node(\n"
     ]
    }
   ],
   "source": [
    "!python -m spacy init fill-config /path/to/base_config_tagger.cfg /path/to/config.cfg"
   ]
  },
  {
   "cell_type": "markdown",
   "metadata": {},
   "source": [
    "# Training the Model\n",
    "\n",
    "To train the model, execute the following command:\n",
    "\n",
    "```bash\n",
    "!python -m spacy train /path/to/config.cfg --output /path/to/model_output_directory --paths.train /path/to/train.spacy --paths.dev /path/to/test.spacy --gpu-id 0\n",
    "```\n",
    "\n",
    "This command initiates the training process using SpaCy's training module. It requires a configuration file specified at /path/to/config.cfg, which contains settings and parameters for training the model. Additionally, it specifies the output directory for saving the trained model files at /path/to/model_output_directory and the paths to the training and testing datasets at /path/to/train.spacy and /path/to/test.spacy, respectively. The --gpu-id 0 flag indicates that the training process should utilize the GPU with ID 0."
   ]
  },
  {
   "cell_type": "code",
   "execution_count": null,
   "metadata": {},
   "outputs": [
    {
     "name": "stdout",
     "output_type": "stream",
     "text": [
      "\u001b[38;5;2m✔ Created output directory:"
     ]
    },
    {
     "name": "stderr",
     "output_type": "stream",
     "text": [
      "c:\\Users\\mikek\\projects\\Text-Normalization\\.venv\\Lib\\site-packages\\transformers\\utils\\generic.py:441: FutureWarning: `torch.utils._pytree._register_pytree_node` is deprecated. Please use `torch.utils._pytree.register_pytree_node` instead.\n",
      "  _torch_pytree._register_pytree_node(\n",
      "c:\\Users\\mikek\\projects\\Text-Normalization\\.venv\\Lib\\site-packages\\transformers\\utils\\generic.py:309: FutureWarning: `torch.utils._pytree._register_pytree_node` is deprecated. Please use `torch.utils._pytree.register_pytree_node` instead.\n",
      "  _torch_pytree._register_pytree_node(\n",
      "c:\\Users\\mikek\\projects\\Text-Normalization\\.venv\\Lib\\site-packages\\huggingface_hub\\file_download.py:797: FutureWarning: `resume_download` is deprecated and will be removed in version 1.0.0. Downloads always resume when possible. If you want to force a new download, use `force_download=True`.\n",
      "  warnings.warn(\n",
      "c:\\Users\\mikek\\projects\\Text-Normalization\\.venv\\Lib\\site-packages\\transformers\\utils\\generic.py:309: FutureWarning: `torch.utils._pytree._register_pytree_node` is deprecated. Please use `torch.utils._pytree.register_pytree_node` instead.\n",
      "  _torch_pytree._register_pytree_node(\n",
      "Some weights of RobertaModel were not initialized from the model checkpoint at roberta-base and are newly initialized: ['roberta.pooler.dense.weight', 'roberta.pooler.dense.bias']\n",
      "You should probably TRAIN this model on a down-stream task to be able to use it for predictions and inference.\n",
      "c:\\Users\\mikek\\projects\\Text-Normalization\\.venv\\Lib\\site-packages\\thinc\\shims\\pytorch.py:114: FutureWarning: `torch.cuda.amp.autocast(args...)` is deprecated. Please use `torch.amp.autocast('cuda', args...)` instead.\n",
      "  with torch.cuda.amp.autocast(self._mixed_precision):\n",
      "c:\\Users\\mikek\\projects\\Text-Normalization\\.venv\\Lib\\site-packages\\thinc\\shims\\pytorch.py:128: FutureWarning: `torch.cuda.amp.autocast(args...)` is deprecated. Please use `torch.amp.autocast('cuda', args...)` instead.\n",
      "  with torch.cuda.amp.autocast(self._mixed_precision):\n"
     ]
    },
    {
     "name": "stdout",
     "output_type": "stream",
     "text": [
      "\n",
      "C:\\Users\\mikek\\projects\\Text-Normalization\\src\\text_norm_NER\\model\u001b[0m\n",
      "\u001b[38;5;4mℹ Saving to output directory:\n",
      "C:\\Users\\mikek\\projects\\Text-Normalization\\src\\text_norm_NER\\model\u001b[0m\n",
      "\u001b[38;5;4mℹ Using GPU: 0\u001b[0m\n",
      "\u001b[1m\n",
      "=========================== Initializing pipeline ===========================\u001b[0m\n",
      "\u001b[38;5;2m✔ Initialized pipeline\u001b[0m\n",
      "\u001b[1m\n",
      "============================= Training pipeline =============================\u001b[0m\n",
      "\u001b[38;5;4mℹ Pipeline: ['transformer', 'ner']\u001b[0m\n",
      "\u001b[38;5;4mℹ Initial learn rate: 0.0\u001b[0m\n",
      "E    #       LOSS TRANS...  LOSS NER  ENTS_F  ENTS_P  ENTS_R  SCORE \n",
      "---  ------  -------------  --------  ------  ------  ------  ------\n",
      "  0       0        1961.45    440.74   42.12   51.10   35.82    0.42\n",
      "  4     200       23959.72  23403.50   98.30   97.76   98.85    0.98\n",
      "  9     400         927.97   1842.55   99.52   99.52   99.52    1.00\n",
      " 14     600         379.49    682.32   99.95   99.95   99.95    1.00\n",
      " 19     800         205.83    351.65   99.95   99.99   99.91    1.00\n",
      " 24    1000         106.27    185.48  100.00  100.00  100.00    1.00\n",
      " 29    1200          80.38    111.30   99.97   99.99   99.95    1.00\n",
      " 34    1400          69.37    109.36   99.99   99.99  100.00    1.00\n",
      " 38    1600          46.51     85.95  100.00  100.00  100.00    1.00\n",
      " 43    1800          25.50     45.32   99.98  100.00   99.95    1.00\n",
      " 48    2000          29.75     59.31   99.99   99.99  100.00    1.00\n",
      " 53    2200          52.29     64.09   99.99   99.99  100.00    1.00\n",
      " 58    2400          40.64     59.52   99.99  100.00   99.98    1.00\n",
      " 63    2600          44.19     66.57  100.00  100.00  100.00    1.00\n",
      "\u001b[38;5;2m✔ Saved pipeline to output directory\u001b[0m\n",
      "C:\\Users\\mikek\\projects\\Text-Normalization\\src\\text_norm_NER\\model\\model-last\n"
     ]
    }
   ],
   "source": [
    "!python -m spacy train /path/to/config.cfg --output /path/to/model_output_directory --paths.train /path/to/train.spacy --paths.dev /path/to/test.spacy --gpu-id 0"
   ]
  },
  {
   "cell_type": "markdown",
   "metadata": {},
   "source": [
    "# Evaluating the Model\n",
    "\n",
    "To evaluate the model, execute the following command:\n",
    "\n",
    "```bash\n",
    "!python -m spacy evaluate /path/to/trained_model_directory/model-best /path/to/eval.spacy --output /path/to/evaluation_output.json --gpu-id 0\n",
    "```\n",
    "\n",
    "This command evaluates the performance of the trained model using SpaCy's evaluation module. It requires specifying the directory containing the trained model files at /path/to/trained_model_directory/model-best. Additionally, it specifies the path to the evaluation dataset at /path/to/eval.spacy.\n",
    "\n",
    "The evaluation results will be saved in JSON format at the location specified by /path/to/evaluation_output.json. The --gpu-id 0 flag indicates that the evaluation process should utilize the GPU with ID 0."
   ]
  },
  {
   "cell_type": "code",
   "execution_count": null,
   "metadata": {},
   "outputs": [
    {
     "name": "stdout",
     "output_type": "stream",
     "text": [
      "\u001b[38;5;4mℹ Using GPU: 0\u001b[0m\n",
      "\u001b[1m\n",
      "================================== Results ==================================\u001b[0m\n",
      "\n",
      "TOK     100.00\n",
      "NER P   96.73 \n",
      "NER R   97.43 \n",
      "NER F   97.08 \n",
      "SPEED   357   \n",
      "\n",
      "\u001b[1m\n",
      "=============================== NER (per type) ===============================\u001b[0m\n",
      "\n",
      "             P       R       F\n",
      "PERSON   96.73   97.43   97.08\n",
      "\n",
      "\u001b[38;5;2m✔ Saved results to\n",
      "C:\\Users\\mikek\\projects\\Text-Normalization\\src\\text_norm_NER\\output.json\u001b[0m\n"
     ]
    },
    {
     "name": "stderr",
     "output_type": "stream",
     "text": [
      "c:\\Users\\mikek\\projects\\Text-Normalization\\.venv\\Lib\\site-packages\\transformers\\utils\\generic.py:441: FutureWarning: `torch.utils._pytree._register_pytree_node` is deprecated. Please use `torch.utils._pytree.register_pytree_node` instead.\n",
      "  _torch_pytree._register_pytree_node(\n",
      "c:\\Users\\mikek\\projects\\Text-Normalization\\.venv\\Lib\\site-packages\\transformers\\utils\\generic.py:309: FutureWarning: `torch.utils._pytree._register_pytree_node` is deprecated. Please use `torch.utils._pytree.register_pytree_node` instead.\n",
      "  _torch_pytree._register_pytree_node(\n",
      "c:\\Users\\mikek\\projects\\Text-Normalization\\.venv\\Lib\\site-packages\\transformers\\utils\\generic.py:309: FutureWarning: `torch.utils._pytree._register_pytree_node` is deprecated. Please use `torch.utils._pytree.register_pytree_node` instead.\n",
      "  _torch_pytree._register_pytree_node(\n",
      "c:\\Users\\mikek\\projects\\Text-Normalization\\.venv\\Lib\\site-packages\\thinc\\shims\\pytorch.py:114: FutureWarning: `torch.cuda.amp.autocast(args...)` is deprecated. Please use `torch.amp.autocast('cuda', args...)` instead.\n",
      "  with torch.cuda.amp.autocast(self._mixed_precision):\n"
     ]
    }
   ],
   "source": [
    "!python -m spacy evaluate /path/to/trained_model_directory/model-best /path/to/eval.spacy --output /path/to/evaluation_output.json --gpu-id 0"
   ]
  },
  {
   "cell_type": "markdown",
   "metadata": {},
   "source": [
    "# Packaging the Model\n",
    "\n",
    "To package the model, execute the following command:\n",
    "\n",
    "```bash\n",
    "!python -m spacy package \"/path/to/trained_model_directory/model-best\" \"/path/to/output_directory\"\n",
    "```\n",
    "\n",
    "This command packages the trained model using SpaCy's packaging module. It requires specifying the directory containing the trained model files at /path/to/trained_model_directory/model-best. Additionally, it specifies the directory where the packaged model will be saved at /path/to/output_directory.\n",
    "\n",
    "The packaged model can be installed using pip with the following command:\n",
    "\n",
    "```bash\n",
    "%pip install \"/path/to/output_directory/model_name-version\"\n",
    "```"
   ]
  },
  {
   "cell_type": "code",
   "execution_count": null,
   "metadata": {},
   "outputs": [
    {
     "name": "stdout",
     "output_type": "stream",
     "text": [
      "\u001b[38;5;4mℹ Building package artifacts: sdist\u001b[0m\n",
      "\u001b[38;5;2m✔ Including 1 package requirement(s) from meta and config\u001b[0m\n",
      "spacy-transformers>=1.3.4,<1.4.0\n",
      "\u001b[38;5;2m✔ Loaded meta.json from file\u001b[0m\n",
      "C:\\Users\\mikek\\projects\\Text-Normalization\\src\\text_norm_NER\\model\\model-best\\meta.json\n",
      "\u001b[38;5;2m✔ Generated README.md from meta.json\u001b[0m\n",
      "\u001b[38;5;2m✔ Successfully created package directory 'en_pipeline-0.0.0'\u001b[0m\n",
      "C:\\Users\\mikek\\projects\\Text-Normalization\\src\\text_norm_NER\\output\\en_pipeline-0.0.0\n",
      "* Creating isolated environment: venv+pip...\n",
      "* Installing packages in isolated environment:\n",
      "  - setuptools >= 40.8.0\n",
      "* Getting build dependencies for sdist...\n",
      "running egg_info\n",
      "creating en_pipeline.egg-info\n",
      "writing en_pipeline.egg-info\\PKG-INFO\n",
      "writing dependency_links to en_pipeline.egg-info\\dependency_links.txt\n",
      "writing entry points to en_pipeline.egg-info\\entry_points.txt\n",
      "writing requirements to en_pipeline.egg-info\\requires.txt\n",
      "writing top-level names to en_pipeline.egg-info\\top_level.txt\n",
      "writing manifest file 'en_pipeline.egg-info\\SOURCES.txt'\n",
      "reading manifest file 'en_pipeline.egg-info\\SOURCES.txt'\n",
      "reading manifest template 'MANIFEST.in'\n",
      "writing manifest file 'en_pipeline.egg-info\\SOURCES.txt'\n",
      "* Building sdist...\n",
      "running sdist\n",
      "running egg_info\n",
      "writing en_pipeline.egg-info\\PKG-INFO\n",
      "writing dependency_links to en_pipeline.egg-info\\dependency_links.txt\n",
      "writing entry points to en_pipeline.egg-info\\entry_points.txt\n",
      "writing requirements to en_pipeline.egg-info\\requires.txt\n",
      "writing top-level names to en_pipeline.egg-info\\top_level.txt\n",
      "reading manifest file 'en_pipeline.egg-info\\SOURCES.txt'\n",
      "reading manifest template 'MANIFEST.in'\n",
      "writing manifest file 'en_pipeline.egg-info\\SOURCES.txt'\n",
      "running check\n",
      "creating en_pipeline-0.0.0\n",
      "creating en_pipeline-0.0.0\\en_pipeline\n",
      "creating en_pipeline-0.0.0\\en_pipeline.egg-info\n",
      "creating en_pipeline-0.0.0\\en_pipeline\\en_pipeline-0.0.0\n",
      "creating en_pipeline-0.0.0\\en_pipeline\\en_pipeline-0.0.0\\ner\n",
      "creating en_pipeline-0.0.0\\en_pipeline\\en_pipeline-0.0.0\\transformer\n",
      "creating en_pipeline-0.0.0\\en_pipeline\\en_pipeline-0.0.0\\vocab\n",
      "copying files to en_pipeline-0.0.0...\n",
      "copying MANIFEST.in -> en_pipeline-0.0.0\n",
      "copying README.md -> en_pipeline-0.0.0\n",
      "copying meta.json -> en_pipeline-0.0.0\n",
      "copying setup.py -> en_pipeline-0.0.0\n",
      "copying en_pipeline\\__init__.py -> en_pipeline-0.0.0\\en_pipeline\n",
      "copying en_pipeline\\meta.json -> en_pipeline-0.0.0\\en_pipeline\n",
      "copying en_pipeline.egg-info\\PKG-INFO -> en_pipeline-0.0.0\\en_pipeline.egg-info\n",
      "copying en_pipeline.egg-info\\SOURCES.txt -> en_pipeline-0.0.0\\en_pipeline.egg-info\n",
      "copying en_pipeline.egg-info\\dependency_links.txt -> en_pipeline-0.0.0\\en_pipeline.egg-info\n",
      "copying en_pipeline.egg-info\\entry_points.txt -> en_pipeline-0.0.0\\en_pipeline.egg-info\n",
      "copying en_pipeline.egg-info\\not-zip-safe -> en_pipeline-0.0.0\\en_pipeline.egg-info\n",
      "copying en_pipeline.egg-info\\requires.txt -> en_pipeline-0.0.0\\en_pipeline.egg-info\n",
      "copying en_pipeline.egg-info\\top_level.txt -> en_pipeline-0.0.0\\en_pipeline.egg-info\n",
      "copying en_pipeline\\en_pipeline-0.0.0\\README.md -> en_pipeline-0.0.0\\en_pipeline\\en_pipeline-0.0.0\n",
      "copying en_pipeline\\en_pipeline-0.0.0\\config.cfg -> en_pipeline-0.0.0\\en_pipeline\\en_pipeline-0.0.0\n",
      "copying en_pipeline\\en_pipeline-0.0.0\\meta.json -> en_pipeline-0.0.0\\en_pipeline\\en_pipeline-0.0.0\n",
      "copying en_pipeline\\en_pipeline-0.0.0\\tokenizer -> en_pipeline-0.0.0\\en_pipeline\\en_pipeline-0.0.0\n",
      "copying en_pipeline\\en_pipeline-0.0.0\\ner\\cfg -> en_pipeline-0.0.0\\en_pipeline\\en_pipeline-0.0.0\\ner\n",
      "copying en_pipeline\\en_pipeline-0.0.0\\ner\\model -> en_pipeline-0.0.0\\en_pipeline\\en_pipeline-0.0.0\\ner\n",
      "copying en_pipeline\\en_pipeline-0.0.0\\ner\\moves -> en_pipeline-0.0.0\\en_pipeline\\en_pipeline-0.0.0\\ner\n",
      "copying en_pipeline\\en_pipeline-0.0.0\\transformer\\cfg -> en_pipeline-0.0.0\\en_pipeline\\en_pipeline-0.0.0\\transformer\n",
      "copying en_pipeline\\en_pipeline-0.0.0\\transformer\\model -> en_pipeline-0.0.0\\en_pipeline\\en_pipeline-0.0.0\\transformer\n",
      "copying en_pipeline\\en_pipeline-0.0.0\\vocab\\key2row -> en_pipeline-0.0.0\\en_pipeline\\en_pipeline-0.0.0\\vocab\n",
      "copying en_pipeline\\en_pipeline-0.0.0\\vocab\\lookups.bin -> en_pipeline-0.0.0\\en_pipeline\\en_pipeline-0.0.0\\vocab\n",
      "copying en_pipeline\\en_pipeline-0.0.0\\vocab\\strings.json -> en_pipeline-0.0.0\\en_pipeline\\en_pipeline-0.0.0\\vocab\n",
      "copying en_pipeline\\en_pipeline-0.0.0\\vocab\\vectors -> en_pipeline-0.0.0\\en_pipeline\\en_pipeline-0.0.0\\vocab\n",
      "copying en_pipeline\\en_pipeline-0.0.0\\vocab\\vectors.cfg -> en_pipeline-0.0.0\\en_pipeline\\en_pipeline-0.0.0\\vocab\n",
      "copying en_pipeline.egg-info\\SOURCES.txt -> en_pipeline-0.0.0\\en_pipeline.egg-info\n",
      "Writing en_pipeline-0.0.0\\setup.cfg\n",
      "Creating tar archive\n",
      "removing 'en_pipeline-0.0.0' (and everything under it)\n",
      "Successfully built en_pipeline-0.0.0.tar.gz\n",
      "\u001b[38;5;2m✔ Successfully created zipped Python package\u001b[0m\n",
      "C:\\Users\\mikek\\projects\\Text-Normalization\\src\\text_norm_NER\\output\\en_pipeline-0.0.0\\dist\\en_pipeline-0.0.0.tar.gz\n"
     ]
    },
    {
     "name": "stderr",
     "output_type": "stream",
     "text": [
      "c:\\Users\\mikek\\projects\\Text-Normalization\\.venv\\Lib\\site-packages\\transformers\\utils\\generic.py:441: FutureWarning: `torch.utils._pytree._register_pytree_node` is deprecated. Please use `torch.utils._pytree.register_pytree_node` instead.\n",
      "  _torch_pytree._register_pytree_node(\n",
      "c:\\Users\\mikek\\projects\\Text-Normalization\\.venv\\Lib\\site-packages\\transformers\\utils\\generic.py:309: FutureWarning: `torch.utils._pytree._register_pytree_node` is deprecated. Please use `torch.utils._pytree.register_pytree_node` instead.\n",
      "  _torch_pytree._register_pytree_node(\n",
      "c:\\Users\\mikek\\projects\\Text-Normalization\\.venv\\Lib\\site-packages\\transformers\\utils\\generic.py:309: FutureWarning: `torch.utils._pytree._register_pytree_node` is deprecated. Please use `torch.utils._pytree.register_pytree_node` instead.\n",
      "  _torch_pytree._register_pytree_node(\n",
      "warning: no files found matching 'LICENSE'\n",
      "warning: no files found matching 'LICENSES_SOURCES'\n",
      "warning: no files found matching 'LICENSE'\n",
      "warning: no files found matching 'LICENSES_SOURCES'\n"
     ]
    }
   ],
   "source": [
    "!python -m spacy package \"/path/to/trained_model_directory/model-best\" \"/path/to/output_directory\""
   ]
  },
  {
   "cell_type": "code",
   "execution_count": null,
   "metadata": {},
   "outputs": [
    {
     "name": "stdout",
     "output_type": "stream",
     "text": [
      "Processing c:\\users\\mikek\\projects\\text-normalization\\src\\text_norm_ner\\output\\en_pipeline-0.0.0\n",
      "  Installing build dependencies: started\n",
      "  Installing build dependencies: finished with status 'done'\n",
      "  Getting requirements to build wheel: started\n",
      "  Getting requirements to build wheel: finished with status 'done'\n",
      "  Preparing metadata (pyproject.toml): started\n",
      "  Preparing metadata (pyproject.toml): finished with status 'done'\n",
      "Requirement already satisfied: spacy<3.8.0,>=3.7.4 in c:\\users\\mikek\\projects\\text-normalization\\.venv\\lib\\site-packages (from en_pipeline==0.0.0) (3.7.4)\n",
      "Requirement already satisfied: spacy-transformers<1.4.0,>=1.3.4 in c:\\users\\mikek\\projects\\text-normalization\\.venv\\lib\\site-packages (from en_pipeline==0.0.0) (1.3.4)\n",
      "Requirement already satisfied: spacy-legacy<3.1.0,>=3.0.11 in c:\\users\\mikek\\projects\\text-normalization\\.venv\\lib\\site-packages (from spacy<3.8.0,>=3.7.4->en_pipeline==0.0.0) (3.0.12)\n",
      "Requirement already satisfied: spacy-loggers<2.0.0,>=1.0.0 in c:\\users\\mikek\\projects\\text-normalization\\.venv\\lib\\site-packages (from spacy<3.8.0,>=3.7.4->en_pipeline==0.0.0) (1.0.5)\n",
      "Requirement already satisfied: murmurhash<1.1.0,>=0.28.0 in c:\\users\\mikek\\projects\\text-normalization\\.venv\\lib\\site-packages (from spacy<3.8.0,>=3.7.4->en_pipeline==0.0.0) (1.0.12)\n",
      "Requirement already satisfied: cymem<2.1.0,>=2.0.2 in c:\\users\\mikek\\projects\\text-normalization\\.venv\\lib\\site-packages (from spacy<3.8.0,>=3.7.4->en_pipeline==0.0.0) (2.0.11)\n",
      "Requirement already satisfied: preshed<3.1.0,>=3.0.2 in c:\\users\\mikek\\projects\\text-normalization\\.venv\\lib\\site-packages (from spacy<3.8.0,>=3.7.4->en_pipeline==0.0.0) (3.0.9)\n",
      "Requirement already satisfied: thinc<8.3.0,>=8.2.2 in c:\\users\\mikek\\projects\\text-normalization\\.venv\\lib\\site-packages (from spacy<3.8.0,>=3.7.4->en_pipeline==0.0.0) (8.2.5)\n",
      "Requirement already satisfied: wasabi<1.2.0,>=0.9.1 in c:\\users\\mikek\\projects\\text-normalization\\.venv\\lib\\site-packages (from spacy<3.8.0,>=3.7.4->en_pipeline==0.0.0) (1.1.3)\n",
      "Requirement already satisfied: srsly<3.0.0,>=2.4.3 in c:\\users\\mikek\\projects\\text-normalization\\.venv\\lib\\site-packages (from spacy<3.8.0,>=3.7.4->en_pipeline==0.0.0) (2.5.1)\n",
      "Requirement already satisfied: catalogue<2.1.0,>=2.0.6 in c:\\users\\mikek\\projects\\text-normalization\\.venv\\lib\\site-packages (from spacy<3.8.0,>=3.7.4->en_pipeline==0.0.0) (2.0.10)\n",
      "Requirement already satisfied: weasel<0.4.0,>=0.1.0 in c:\\users\\mikek\\projects\\text-normalization\\.venv\\lib\\site-packages (from spacy<3.8.0,>=3.7.4->en_pipeline==0.0.0) (0.3.4)\n",
      "Requirement already satisfied: typer<0.10.0,>=0.3.0 in c:\\users\\mikek\\projects\\text-normalization\\.venv\\lib\\site-packages (from spacy<3.8.0,>=3.7.4->en_pipeline==0.0.0) (0.9.4)\n",
      "Requirement already satisfied: smart-open<7.0.0,>=5.2.1 in c:\\users\\mikek\\projects\\text-normalization\\.venv\\lib\\site-packages (from spacy<3.8.0,>=3.7.4->en_pipeline==0.0.0) (6.4.0)\n",
      "Requirement already satisfied: tqdm<5.0.0,>=4.38.0 in c:\\users\\mikek\\projects\\text-normalization\\.venv\\lib\\site-packages (from spacy<3.8.0,>=3.7.4->en_pipeline==0.0.0) (4.67.1)\n",
      "Requirement already satisfied: requests<3.0.0,>=2.13.0 in c:\\users\\mikek\\projects\\text-normalization\\.venv\\lib\\site-packages (from spacy<3.8.0,>=3.7.4->en_pipeline==0.0.0) (2.32.3)\n",
      "Requirement already satisfied: pydantic!=1.8,!=1.8.1,<3.0.0,>=1.7.4 in c:\\users\\mikek\\projects\\text-normalization\\.venv\\lib\\site-packages (from spacy<3.8.0,>=3.7.4->en_pipeline==0.0.0) (2.10.6)\n",
      "Requirement already satisfied: jinja2 in c:\\users\\mikek\\projects\\text-normalization\\.venv\\lib\\site-packages (from spacy<3.8.0,>=3.7.4->en_pipeline==0.0.0) (3.1.5)\n",
      "Requirement already satisfied: setuptools in c:\\users\\mikek\\projects\\text-normalization\\.venv\\lib\\site-packages (from spacy<3.8.0,>=3.7.4->en_pipeline==0.0.0) (65.5.0)\n",
      "Requirement already satisfied: packaging>=20.0 in c:\\users\\mikek\\projects\\text-normalization\\.venv\\lib\\site-packages (from spacy<3.8.0,>=3.7.4->en_pipeline==0.0.0) (24.2)\n",
      "Requirement already satisfied: langcodes<4.0.0,>=3.2.0 in c:\\users\\mikek\\projects\\text-normalization\\.venv\\lib\\site-packages (from spacy<3.8.0,>=3.7.4->en_pipeline==0.0.0) (3.5.0)\n",
      "Requirement already satisfied: numpy>=1.19.0 in c:\\users\\mikek\\projects\\text-normalization\\.venv\\lib\\site-packages (from spacy<3.8.0,>=3.7.4->en_pipeline==0.0.0) (1.26.4)\n",
      "Requirement already satisfied: transformers<4.37.0,>=3.4.0 in c:\\users\\mikek\\projects\\text-normalization\\.venv\\lib\\site-packages (from spacy-transformers<1.4.0,>=1.3.4->en_pipeline==0.0.0) (4.36.2)\n",
      "Requirement already satisfied: torch>=1.8.0 in c:\\users\\mikek\\projects\\text-normalization\\.venv\\lib\\site-packages (from spacy-transformers<1.4.0,>=1.3.4->en_pipeline==0.0.0) (2.6.0+cu126)\n",
      "Requirement already satisfied: spacy-alignments<1.0.0,>=0.7.2 in c:\\users\\mikek\\projects\\text-normalization\\.venv\\lib\\site-packages (from spacy-transformers<1.4.0,>=1.3.4->en_pipeline==0.0.0) (0.9.1)\n",
      "Requirement already satisfied: language-data>=1.2 in c:\\users\\mikek\\projects\\text-normalization\\.venv\\lib\\site-packages (from langcodes<4.0.0,>=3.2.0->spacy<3.8.0,>=3.7.4->en_pipeline==0.0.0) (1.3.0)\n",
      "Requirement already satisfied: annotated-types>=0.6.0 in c:\\users\\mikek\\projects\\text-normalization\\.venv\\lib\\site-packages (from pydantic!=1.8,!=1.8.1,<3.0.0,>=1.7.4->spacy<3.8.0,>=3.7.4->en_pipeline==0.0.0) (0.7.0)\n",
      "Requirement already satisfied: pydantic-core==2.27.2 in c:\\users\\mikek\\projects\\text-normalization\\.venv\\lib\\site-packages (from pydantic!=1.8,!=1.8.1,<3.0.0,>=1.7.4->spacy<3.8.0,>=3.7.4->en_pipeline==0.0.0) (2.27.2)\n",
      "Requirement already satisfied: typing-extensions>=4.12.2 in c:\\users\\mikek\\projects\\text-normalization\\.venv\\lib\\site-packages (from pydantic!=1.8,!=1.8.1,<3.0.0,>=1.7.4->spacy<3.8.0,>=3.7.4->en_pipeline==0.0.0) (4.12.2)\n",
      "Requirement already satisfied: charset-normalizer<4,>=2 in c:\\users\\mikek\\projects\\text-normalization\\.venv\\lib\\site-packages (from requests<3.0.0,>=2.13.0->spacy<3.8.0,>=3.7.4->en_pipeline==0.0.0) (3.4.1)\n",
      "Requirement already satisfied: idna<4,>=2.5 in c:\\users\\mikek\\projects\\text-normalization\\.venv\\lib\\site-packages (from requests<3.0.0,>=2.13.0->spacy<3.8.0,>=3.7.4->en_pipeline==0.0.0) (3.10)\n",
      "Requirement already satisfied: urllib3<3,>=1.21.1 in c:\\users\\mikek\\projects\\text-normalization\\.venv\\lib\\site-packages (from requests<3.0.0,>=2.13.0->spacy<3.8.0,>=3.7.4->en_pipeline==0.0.0) (2.3.0)\n",
      "Requirement already satisfied: certifi>=2017.4.17 in c:\\users\\mikek\\projects\\text-normalization\\.venv\\lib\\site-packages (from requests<3.0.0,>=2.13.0->spacy<3.8.0,>=3.7.4->en_pipeline==0.0.0) (2025.1.31)\n",
      "Requirement already satisfied: blis<0.8.0,>=0.7.8 in c:\\users\\mikek\\projects\\text-normalization\\.venv\\lib\\site-packages (from thinc<8.3.0,>=8.2.2->spacy<3.8.0,>=3.7.4->en_pipeline==0.0.0) (0.7.11)\n",
      "Requirement already satisfied: confection<1.0.0,>=0.0.1 in c:\\users\\mikek\\projects\\text-normalization\\.venv\\lib\\site-packages (from thinc<8.3.0,>=8.2.2->spacy<3.8.0,>=3.7.4->en_pipeline==0.0.0) (0.1.5)\n",
      "Requirement already satisfied: filelock in c:\\users\\mikek\\projects\\text-normalization\\.venv\\lib\\site-packages (from torch>=1.8.0->spacy-transformers<1.4.0,>=1.3.4->en_pipeline==0.0.0) (3.17.0)\n",
      "Requirement already satisfied: networkx in c:\\users\\mikek\\projects\\text-normalization\\.venv\\lib\\site-packages (from torch>=1.8.0->spacy-transformers<1.4.0,>=1.3.4->en_pipeline==0.0.0) (3.4.2)\n",
      "Requirement already satisfied: fsspec in c:\\users\\mikek\\projects\\text-normalization\\.venv\\lib\\site-packages (from torch>=1.8.0->spacy-transformers<1.4.0,>=1.3.4->en_pipeline==0.0.0) (2025.2.0)\n",
      "Requirement already satisfied: sympy==1.13.1 in c:\\users\\mikek\\projects\\text-normalization\\.venv\\lib\\site-packages (from torch>=1.8.0->spacy-transformers<1.4.0,>=1.3.4->en_pipeline==0.0.0) (1.13.1)\n",
      "Requirement already satisfied: mpmath<1.4,>=1.1.0 in c:\\users\\mikek\\projects\\text-normalization\\.venv\\lib\\site-packages (from sympy==1.13.1->torch>=1.8.0->spacy-transformers<1.4.0,>=1.3.4->en_pipeline==0.0.0) (1.3.0)\n",
      "Requirement already satisfied: colorama in c:\\users\\mikek\\projects\\text-normalization\\.venv\\lib\\site-packages (from tqdm<5.0.0,>=4.38.0->spacy<3.8.0,>=3.7.4->en_pipeline==0.0.0) (0.4.6)\n",
      "Requirement already satisfied: huggingface-hub<1.0,>=0.19.3 in c:\\users\\mikek\\projects\\text-normalization\\.venv\\lib\\site-packages (from transformers<4.37.0,>=3.4.0->spacy-transformers<1.4.0,>=1.3.4->en_pipeline==0.0.0) (0.29.0)\n",
      "Requirement already satisfied: pyyaml>=5.1 in c:\\users\\mikek\\projects\\text-normalization\\.venv\\lib\\site-packages (from transformers<4.37.0,>=3.4.0->spacy-transformers<1.4.0,>=1.3.4->en_pipeline==0.0.0) (6.0.2)\n",
      "Requirement already satisfied: regex!=2019.12.17 in c:\\users\\mikek\\projects\\text-normalization\\.venv\\lib\\site-packages (from transformers<4.37.0,>=3.4.0->spacy-transformers<1.4.0,>=1.3.4->en_pipeline==0.0.0) (2024.11.6)\n",
      "Requirement already satisfied: tokenizers<0.19,>=0.14 in c:\\users\\mikek\\projects\\text-normalization\\.venv\\lib\\site-packages (from transformers<4.37.0,>=3.4.0->spacy-transformers<1.4.0,>=1.3.4->en_pipeline==0.0.0) (0.15.2)\n",
      "Requirement already satisfied: safetensors>=0.3.1 in c:\\users\\mikek\\projects\\text-normalization\\.venv\\lib\\site-packages (from transformers<4.37.0,>=3.4.0->spacy-transformers<1.4.0,>=1.3.4->en_pipeline==0.0.0) (0.5.2)\n",
      "Requirement already satisfied: click<9.0.0,>=7.1.1 in c:\\users\\mikek\\projects\\text-normalization\\.venv\\lib\\site-packages (from typer<0.10.0,>=0.3.0->spacy<3.8.0,>=3.7.4->en_pipeline==0.0.0) (8.1.8)\n",
      "Requirement already satisfied: cloudpathlib<0.17.0,>=0.7.0 in c:\\users\\mikek\\projects\\text-normalization\\.venv\\lib\\site-packages (from weasel<0.4.0,>=0.1.0->spacy<3.8.0,>=3.7.4->en_pipeline==0.0.0) (0.16.0)\n",
      "Requirement already satisfied: MarkupSafe>=2.0 in c:\\users\\mikek\\projects\\text-normalization\\.venv\\lib\\site-packages (from jinja2->spacy<3.8.0,>=3.7.4->en_pipeline==0.0.0) (3.0.2)\n",
      "Requirement already satisfied: marisa-trie>=1.1.0 in c:\\users\\mikek\\projects\\text-normalization\\.venv\\lib\\site-packages (from language-data>=1.2->langcodes<4.0.0,>=3.2.0->spacy<3.8.0,>=3.7.4->en_pipeline==0.0.0) (1.2.1)\n",
      "Building wheels for collected packages: en_pipeline\n",
      "  Building wheel for en_pipeline (pyproject.toml): started\n",
      "  Building wheel for en_pipeline (pyproject.toml): finished with status 'done'\n",
      "  Created wheel for en_pipeline: filename=en_pipeline-0.0.0-py3-none-any.whl size=434078417 sha256=1f3b4ca1202977a24e7032d823a6c66f7bf3cc2b3798df3d07859541900baf08\n",
      "  Stored in directory: c:\\users\\mikek\\appdata\\local\\pip\\cache\\wheels\\45\\48\\ef\\5285815e886b9cce76bf94cfcd4c0e01bfc0b43eef7f0be145\n",
      "Successfully built en_pipeline\n",
      "Installing collected packages: en_pipeline\n",
      "  Attempting uninstall: en_pipeline\n",
      "    Found existing installation: en_pipeline 0.0.0\n",
      "    Uninstalling en_pipeline-0.0.0:\n",
      "      Successfully uninstalled en_pipeline-0.0.0\n",
      "Successfully installed en_pipeline-0.0.0\n"
     ]
    },
    {
     "name": "stderr",
     "output_type": "stream",
     "text": [
      "\n",
      "[notice] A new release of pip is available: 23.2.1 -> 25.0.1\n",
      "[notice] To update, run: python.exe -m pip install --upgrade pip\n"
     ]
    }
   ],
   "source": [
    "%pip install \"/path/to/output_directory/model_name-version\""
   ]
  },
  {
   "cell_type": "markdown",
   "metadata": {},
   "source": [
    "# Performing Inference with the Model\n"
   ]
  },
  {
   "cell_type": "code",
   "execution_count": 1,
   "metadata": {},
   "outputs": [
    {
     "name": "stderr",
     "output_type": "stream",
     "text": [
      "c:\\Users\\mikek\\projects\\Text-Normalization\\.venv\\Lib\\site-packages\\tqdm\\auto.py:21: TqdmWarning: IProgress not found. Please update jupyter and ipywidgets. See https://ipywidgets.readthedocs.io/en/stable/user_install.html\n",
      "  from .autonotebook import tqdm as notebook_tqdm\n",
      "c:\\Users\\mikek\\projects\\Text-Normalization\\.venv\\Lib\\site-packages\\transformers\\utils\\generic.py:441: FutureWarning: `torch.utils._pytree._register_pytree_node` is deprecated. Please use `torch.utils._pytree.register_pytree_node` instead.\n",
      "  _torch_pytree._register_pytree_node(\n",
      "c:\\Users\\mikek\\projects\\Text-Normalization\\.venv\\Lib\\site-packages\\transformers\\utils\\generic.py:309: FutureWarning: `torch.utils._pytree._register_pytree_node` is deprecated. Please use `torch.utils._pytree.register_pytree_node` instead.\n",
      "  _torch_pytree._register_pytree_node(\n",
      "c:\\Users\\mikek\\projects\\Text-Normalization\\.venv\\Lib\\site-packages\\transformers\\utils\\generic.py:309: FutureWarning: `torch.utils._pytree._register_pytree_node` is deprecated. Please use `torch.utils._pytree.register_pytree_node` instead.\n",
      "  _torch_pytree._register_pytree_node(\n"
     ]
    }
   ],
   "source": [
    "import spacy\n",
    "\n",
    "nlp = spacy.load(\"en_pipeline\")\n",
    "\n",
    "# add the text to be processed\n",
    "text = \"\"\n",
    "\n",
    "doc = nlp(text)\n",
    "\n",
    "entities = []\n",
    "for ent in doc.ents:\n",
    "    print(f\"Entity: {ent.text}, Label: {ent.label_}\")\n",
    "    if ent.label_ == \"PERSON\":\n",
    "        entities.append(ent.text)\n",
    "\n",
    "# Join PERSON entities with /\n",
    "if entities:\n",
    "    joined_entities = \"/\".join(entities)\n",
    "    print(f\"Joined PERSON entities: {joined_entities}\")"
   ]
  }
 ],
 "metadata": {
  "kernelspec": {
   "display_name": ".venv",
   "language": "python",
   "name": "python3"
  },
  "language_info": {
   "codemirror_mode": {
    "name": "ipython",
    "version": 3
   },
   "file_extension": ".py",
   "mimetype": "text/x-python",
   "name": "python",
   "nbconvert_exporter": "python",
   "pygments_lexer": "ipython3",
   "version": "3.11.7"
  }
 },
 "nbformat": 4,
 "nbformat_minor": 2
}
