{
 "cells": [
  {
   "cell_type": "markdown",
   "metadata": {},
   "source": [
    "# Dependencies for training with GPU (transformer)\n",
    "\n",
    "To train the model with GPU, you need to install the following dependencies:"
   ]
  },
  {
   "cell_type": "code",
   "execution_count": null,
   "metadata": {},
   "outputs": [],
   "source": [
    "# Install CuPy (adjust based on your CUDA version)\n",
    "%pip install cupy-cuda12x"
   ]
  },
  {
   "cell_type": "code",
   "execution_count": null,
   "metadata": {},
   "outputs": [],
   "source": [
    "# Install PyTorch, torchvision, and torchaudio (adjust CUDA version if needed)\n",
    "%pip install torch torchvision torchaudio --index-url https://download.pytorch.org/whl/cu126"
   ]
  },
  {
   "cell_type": "markdown",
   "metadata": {},
   "source": [
    "# Generating the Configuration File\n",
    "\n",
    "To generate the configuration file, execute the following command:\n",
    "\n",
    "```bash\n",
    "!python -m spacy init fill-config /path/to/base_config_tagger.cfg /path/to/config.cfg\n",
    "```\n",
    "\n",
    "\n",
    "This command utilizes the spacy init fill-config module to create a configuration file named config.cfg. It fills in the base configuration from the file specified at /path/to/base_config_tagger.cfg, which contains initial settings and parameters for the SpaCy model training process.\n",
    "\n",
    "You can download a base_config_tagger.cfg file from the SpaCy website https://spacy.io/usage/training. After downloading the desired configuration file, specify its path as the base configuration file argument in the command. "
   ]
  },
  {
   "cell_type": "code",
   "execution_count": 2,
   "metadata": {},
   "outputs": [
    {
     "name": "stdout",
     "output_type": "stream",
     "text": [
      "\u001b[38;5;2m✔ Auto-filled config with all values\u001b[0m\n",
      "\u001b[38;5;2m✔ Saved config\u001b[0m\n",
      "C:\\Users\\mikek\\projects\\Text-Normalization\\src\\text_norm_NER\\config.cfg\n",
      "You can now add your data and train your pipeline:\n",
      "python -m spacy train config.cfg --paths.train ./train.spacy --paths.dev ./dev.spacy\n"
     ]
    },
    {
     "name": "stderr",
     "output_type": "stream",
     "text": [
      "c:\\Users\\mikek\\projects\\Text-Normalization\\.venv\\Lib\\site-packages\\transformers\\utils\\generic.py:441: FutureWarning: `torch.utils._pytree._register_pytree_node` is deprecated. Please use `torch.utils._pytree.register_pytree_node` instead.\n",
      "  _torch_pytree._register_pytree_node(\n",
      "c:\\Users\\mikek\\projects\\Text-Normalization\\.venv\\Lib\\site-packages\\transformers\\utils\\generic.py:309: FutureWarning: `torch.utils._pytree._register_pytree_node` is deprecated. Please use `torch.utils._pytree.register_pytree_node` instead.\n",
      "  _torch_pytree._register_pytree_node(\n"
     ]
    }
   ],
   "source": [
    "!python -m spacy init fill-config C:/Users/mikek/projects/Text-Normalization/src/text_norm_NER/base_config.cfg C:/Users/mikek/projects/Text-Normalization/src/text_norm_NER/config.cfg"
   ]
  },
  {
   "cell_type": "markdown",
   "metadata": {},
   "source": [
    "# Training the Model\n",
    "\n",
    "To train the model, execute the following command:\n",
    "\n",
    "```bash\n",
    "!python -m spacy train /path/to/config.cfg --output /path/to/model_output_directory --paths.train /path/to/train.spacy --paths.dev /path/to/test.spacy --gpu-id 0\n",
    "```\n",
    "\n",
    "This command initiates the training process using SpaCy's training module. It requires a configuration file specified at /path/to/config.cfg, which contains settings and parameters for training the model. Additionally, it specifies the output directory for saving the trained model files at /path/to/model_output_directory and the paths to the training and testing datasets at /path/to/train.spacy and /path/to/test.spacy, respectively. The --gpu-id 0 flag indicates that the training process should utilize the GPU with ID 0."
   ]
  },
  {
   "cell_type": "code",
   "execution_count": null,
   "metadata": {},
   "outputs": [],
   "source": [
    "!python -m spacy train C:/Users/mikek/projects/Text-Normalization/src/text_norm_NER/config.cfg --output C:/Users/mikek/projects/Text-Normalization/src/text_norm_NER/model --paths.train C:/Users/mikek/projects/Text-Normalization/src/text_norm_NER/train_data.spacy --paths.dev C:/Users/mikek/projects/Text-Normalization/src/text_norm_NER/train_data.spacy --gpu-id 0"
   ]
  },
  {
   "cell_type": "markdown",
   "metadata": {},
   "source": [
    "# Evaluating the Model\n",
    "\n",
    "To evaluate the model, execute the following command:\n",
    "\n",
    "```bash\n",
    "!python -m spacy evaluate /path/to/trained_model_directory/model-best /path/to/eval.spacy --output /path/to/evaluation_output.json --gpu-id 0\n",
    "```\n",
    "\n",
    "This command evaluates the performance of the trained model using SpaCy's evaluation module. It requires specifying the directory containing the trained model files at /path/to/trained_model_directory/model-best. Additionally, it specifies the path to the evaluation dataset at /path/to/eval.spacy.\n",
    "\n",
    "The evaluation results will be saved in JSON format at the location specified by /path/to/evaluation_output.json. The --gpu-id 0 flag indicates that the evaluation process should utilize the GPU with ID 0."
   ]
  },
  {
   "cell_type": "code",
   "execution_count": null,
   "metadata": {},
   "outputs": [],
   "source": [
    "!python -m spacy evaluate C:/Users/mikek/projects/Text-Normalization/src/text_norm_NER/model/model-best C:/Users/mikek/projects/Text-Normalization/src/text_norm_NER/val_data.spacy --output C:/Users/mikek/projects/Text-Normalization/src/text_norm_NER/output.json --gpu-id 0"
   ]
  },
  {
   "cell_type": "markdown",
   "metadata": {},
   "source": [
    "# Packaging the Model\n",
    "\n",
    "To package the model, execute the following command:\n",
    "\n",
    "```bash\n",
    "!python -m spacy package \"/path/to/trained_model_directory/model-best\" \"/path/to/output_directory\"\n",
    "```\n",
    "\n",
    "This command packages the trained model using SpaCy's packaging module. It requires specifying the directory containing the trained model files at /path/to/trained_model_directory/model-best. Additionally, it specifies the directory where the packaged model will be saved at /path/to/output_directory.\n",
    "\n",
    "The packaged model can be installed using pip with the following command:\n",
    "\n",
    "```bash\n",
    "!pip install /path/to/output_directory/model_name-version\n",
    "```"
   ]
  },
  {
   "cell_type": "code",
   "execution_count": null,
   "metadata": {},
   "outputs": [],
   "source": [
    "!python -m spacy package \"C:/Users/mikek/projects/Text-Normalization/src/text_norm_NER/model/model-best\" \"C:/Users/mikek/projects/Text-Normalization/src/text_norm_NER/output\""
   ]
  },
  {
   "cell_type": "code",
   "execution_count": null,
   "metadata": {},
   "outputs": [],
   "source": [
    "! pip install \"C:\\Users\\mikek\\projects\\Text-Normalization\\src\\text_norm_NER\\output\\en_pipeline-0.0.0\""
   ]
  },
  {
   "cell_type": "markdown",
   "metadata": {},
   "source": [
    "# Performing Inference with the Model\n"
   ]
  },
  {
   "cell_type": "code",
   "execution_count": null,
   "metadata": {},
   "outputs": [],
   "source": [
    "import spacy\n",
    "\n",
    "nlp = spacy.load(\"en_pipeline\")\n",
    "\n",
    "# add the text to be processed\n",
    "text = \"mk,wtf,fgh\"\n",
    "\n",
    "doc = nlp(text)\n",
    "\n",
    "entities = []\n",
    "for ent in doc.ents:\n",
    "    print(f\"Entity: {ent.text}, Label: {ent.label_}\")\n",
    "    if ent.label_ == \"PERSON\":\n",
    "        entities.append(ent.text)\n",
    "\n",
    "# Join PERSON entities with /\n",
    "if entities:\n",
    "    joined_entities = \"/\".join(entities)\n",
    "    print(f\"Joined PERSON entities: {joined_entities}\")"
   ]
  }
 ],
 "metadata": {
  "kernelspec": {
   "display_name": ".venv",
   "language": "python",
   "name": "python3"
  },
  "language_info": {
   "codemirror_mode": {
    "name": "ipython",
    "version": 3
   },
   "file_extension": ".py",
   "mimetype": "text/x-python",
   "name": "python",
   "nbconvert_exporter": "python",
   "pygments_lexer": "ipython3",
   "version": "3.11.7"
  }
 },
 "nbformat": 4,
 "nbformat_minor": 2
}
