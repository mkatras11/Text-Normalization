{
 "cells": [
  {
   "cell_type": "code",
   "execution_count": 21,
   "metadata": {},
   "outputs": [],
   "source": [
    "import pandas as pd"
   ]
  },
  {
   "cell_type": "code",
   "execution_count": 22,
   "metadata": {},
   "outputs": [
    {
     "name": "stdout",
     "output_type": "stream",
     "text": [
      "                                  raw_comp_writers_text  \\\n",
      "0               Jordan Riley/Adam Argyle/Martin Brammer   \n",
      "1                                         Martin Hygård   \n",
      "2     Jesse Robinson/Greg Phillips/Kishaun Bailey/Ka...   \n",
      "3                                        Mendel Brikman   \n",
      "4                                             Alvin Lee   \n",
      "...                                                 ...   \n",
      "9995                                      Terrance Byrd   \n",
      "9996                                       Pillar Point   \n",
      "9997  FRANK BRIAN KEITH (MR)/JENNINGS JOHN JOSEPH IV...   \n",
      "9998                                       Sierra Lucas   \n",
      "9999                         Budde Music/Lorenz Brunner   \n",
      "\n",
      "                                             CLEAN_TEXT  \n",
      "0               Jordan Riley/Adam Argyle/Martin Brammer  \n",
      "1                                         Martin Hygård  \n",
      "2     Jesse Robinson/Greg Phillips/Kishaun Bailey/Ka...  \n",
      "3                                                   NaN  \n",
      "4                                             Alvin Lee  \n",
      "...                                                 ...  \n",
      "9995                                      Terrance Byrd  \n",
      "9996                                       Pillar Point  \n",
      "9997  FRANK/BRIAN/KEITH/(MR)/JENNINGS/JOHN/JOSEPH/IV...  \n",
      "9998                                       Sierra Lucas  \n",
      "9999                                     Lorenz Brunner  \n",
      "\n",
      "[10000 rows x 2 columns]\n"
     ]
    }
   ],
   "source": [
    "df = pd.read_csv(\"src/data/normalization_assesment_dataset_10k.csv\")\n",
    "print(df)"
   ]
  },
  {
   "cell_type": "markdown",
   "metadata": {},
   "source": [
    "**Redundant entries:** Many CLEAN_TEXT values are identical to raw_comp_writers_text"
   ]
  },
  {
   "cell_type": "code",
   "execution_count": 23,
   "metadata": {},
   "outputs": [
    {
     "name": "stdout",
     "output_type": "stream",
     "text": [
      "CLEAN_TEXT values identical to raw_comp_writers_text: 6323\n",
      "percentage of CLEAN_TEXT values identical to raw_comp_writers_text: 63.23 %\n",
      "                                  raw_comp_writers_text  \\\n",
      "0               Jordan Riley/Adam Argyle/Martin Brammer   \n",
      "1                                         Martin Hygård   \n",
      "2     Jesse Robinson/Greg Phillips/Kishaun Bailey/Ka...   \n",
      "4                                             Alvin Lee   \n",
      "6                                          Mefi Morales   \n",
      "...                                                 ...   \n",
      "9992  Ludovic Berrou/Jean-Christophe Colliou/Damien ...   \n",
      "9993  Jonny Buckland/Guy Berryman/Will Champion/Chri...   \n",
      "9995                                      Terrance Byrd   \n",
      "9996                                       Pillar Point   \n",
      "9998                                       Sierra Lucas   \n",
      "\n",
      "                                             CLEAN_TEXT  \n",
      "0               Jordan Riley/Adam Argyle/Martin Brammer  \n",
      "1                                         Martin Hygård  \n",
      "2     Jesse Robinson/Greg Phillips/Kishaun Bailey/Ka...  \n",
      "4                                             Alvin Lee  \n",
      "6                                          Mefi Morales  \n",
      "...                                                 ...  \n",
      "9992  Ludovic Berrou/Jean-Christophe Colliou/Damien ...  \n",
      "9993  Jonny Buckland/Guy Berryman/Will Champion/Chri...  \n",
      "9995                                      Terrance Byrd  \n",
      "9996                                       Pillar Point  \n",
      "9998                                       Sierra Lucas  \n",
      "\n",
      "[6323 rows x 2 columns]\n"
     ]
    }
   ],
   "source": [
    "\n",
    "print(\"CLEAN_TEXT values identical to raw_comp_writers_text:\",df[df['raw_comp_writers_text'] == df['CLEAN_TEXT']].shape[0])\n",
    "print(\"percentage of CLEAN_TEXT values identical to raw_comp_writers_text:\",(df[df['raw_comp_writers_text'] == df['CLEAN_TEXT']].shape[0]/df.shape[0]) * 100,\"%\")\n",
    "\n",
    "print(df[df['raw_comp_writers_text'] == df['CLEAN_TEXT']])"
   ]
  },
  {
   "cell_type": "markdown",
   "metadata": {},
   "source": [
    "**Missing values:** Some rows have NaN values."
   ]
  },
  {
   "cell_type": "code",
   "execution_count": 24,
   "metadata": {},
   "outputs": [
    {
     "name": "stdout",
     "output_type": "stream",
     "text": [
      "Empty CLEAN_TEXT values: 1341\n",
      "percentage of Empty CLEAN_TEXT values: 13.41 %\n",
      "                                  raw_comp_writers_text CLEAN_TEXT\n",
      "3                                        Mendel Brikman        NaN\n",
      "8                               UNKNOWN WRITER (999990)        NaN\n",
      "25                                               fo man        NaN\n",
      "27                                          Traditional        NaN\n",
      "28                                            #unknown#        NaN\n",
      "...                                                 ...        ...\n",
      "9968                                   Phanendra/Shakti        NaN\n",
      "9974  AEPI/Hamburge, Darjean/Hamburge, Darjean, Sevi...        NaN\n",
      "9976  Orhan Gencebay, Yaacov Lamai, Dolev Ram, Penn ...        NaN\n",
      "9979                             Galkin A./Afanas'ev V.        NaN\n",
      "9981                                              VCPMC        NaN\n",
      "\n",
      "[1341 rows x 2 columns]\n"
     ]
    }
   ],
   "source": [
    "print(\"Empty CLEAN_TEXT values:\",df[df['CLEAN_TEXT'].isnull()].shape[0])\n",
    "print(\"percentage of Empty CLEAN_TEXT values:\",(df[df['CLEAN_TEXT'].isnull()].shape[0]/df.shape[0]) * 100,\"%\")\n",
    "\n",
    "print(df[df['CLEAN_TEXT'].isnull()])\n"
   ]
  },
  {
   "cell_type": "code",
   "execution_count": 25,
   "metadata": {},
   "outputs": [
    {
     "name": "stdout",
     "output_type": "stream",
     "text": [
      "Empty raw_comp_writers_text values: 1\n",
      "percentage of Empty raw_comp_writers_text values: 0.01 %\n",
      "    raw_comp_writers_text CLEAN_TEXT\n",
      "165                   NaN        NaN\n"
     ]
    }
   ],
   "source": [
    "print(\"Empty raw_comp_writers_text values:\",df[df['raw_comp_writers_text'].isnull()].shape[0])\n",
    "print(\"percentage of Empty raw_comp_writers_text values:\",(df[df['raw_comp_writers_text'].isnull()].shape[0]/df.shape[0]) * 100,\"%\")\n",
    "\n",
    "print(df[df['raw_comp_writers_text'].isnull()])"
   ]
  },
  {
   "cell_type": "code",
   "execution_count": 26,
   "metadata": {},
   "outputs": [
    {
     "name": "stdout",
     "output_type": "stream",
     "text": [
      "[('<Unknown>', 341), ('Copyright Control', 119), ('Traditional', 21), ('Wolfgang Amadeus Mozart', 20), ('COPYRIGHT CONTROL', 20), ('Sameer', 16), ('Giuseppe Verdi', 14), ('Johann Sebastian Bach', 11), ('[traditional]', 10), ('Ludwig van Beethoven', 9), ('Billie Ray Fingers', 9), ('Bruce Fingers', 9), ('Thomas Bergersen', 9), ('ZUN', 9), ('John Lennon', 8), ('Paul McCartney', 8), ('Juice WRLD', 8), ('Anand Bakshi', 8), ('LEEZ', 8), ('Ollounder', 8), ('George Gershwin', 8), ('Savan Kotecha', 7), ('WRITER UNKNOWN', 7), ('Robert Hunter', 7), ('Not Documented', 7), ('Richard Strauss', 7), ('A. R. Rahman', 7), ('김홍중', 7), ('EDEN', 7), ('송민기', 7), ('Max Martin', 7), ('Nadeem-Shravan', 6), ('Jesús María Corman', 6), ('Mikel Erentxun', 6), ('Andrew Lloyd Webber', 6), ('Antonio Vivaldi', 6), ('Phạm Duy', 6), ('Ritchie Blackmore', 6), ('Phil Collins', 6), ('Lorenzo Da Ponte', 6), ('Franz Schubert', 6), ('Lars Ulrich', 6), ('James Hetfield', 6), ('Sony', 6), ('Sonoton Music GmbH & Co. KG', 6), ('Taylor Swift', 6), ('Rahul Dev Burman', 6), ('Anu Malik', 5), ('Gaetano Donizetti', 5), ('UNKNOWN WRITER', 5)]\n",
      "15466\n"
     ]
    }
   ],
   "source": [
    "from collections import Counter\n",
    "import re\n",
    "#split raw_comp_writers_text into names delimited by /\n",
    "names_raw = []\n",
    "for text in df['raw_comp_writers_text']:\n",
    "    if type(text) == float:\n",
    "        continue\n",
    "    names_raw += re.split(r'/', text)\n",
    "\n",
    "name_freq_raw = Counter(names_raw)\n",
    "print(name_freq_raw.most_common(50))\n",
    "#len of names_freq_raw\n",
    "print(len(name_freq_raw))"
   ]
  },
  {
   "cell_type": "code",
   "execution_count": null,
   "metadata": {},
   "outputs": [],
   "source": [
    "import re\n",
    "import pandas as pd\n",
    "\n",
    "# Define noisy names to be removed\n",
    "NOISY_NAMES = [\n",
    "    r'<Unknown>', r'Copyright Control', r'Traditional', r'COPYRIGHT CONTROL', \n",
    "    r'\\[traditional\\]', r'WRITER UNKNOWN', r'Not Documented', \n",
    "    r'Sonoton Music GmbH & Co. KG', r'UNKNOWN WRITER \\(999990\\)', \n",
    "    r'UNKNOWN WRITER', r'PUBLISHER UNKNOWN', \n",
    "    r'Figurata Music GmbH & Co. KG', r'#unknown#'\n",
    "]\n",
    "\n",
    "def clean_noisy_names(text):\n",
    "    if not isinstance(text, str):\n",
    "        return text\n",
    "    for noisy in NOISY_NAMES:\n",
    "        text = re.sub(noisy, '', text, flags=re.IGNORECASE)  \n",
    "    return text.strip()  \n",
    "\n",
    "def preprocess_text_column(df, column_name):\n",
    "    \"\"\"\n",
    "    Preprocesses a text column in a DataFrame by removing noisy names, cleaning delimiters,\n",
    "    and removing empty rows.\n",
    "    \n",
    "    Args:\n",
    "        df (pd.DataFrame): The DataFrame containing the text column.\n",
    "        column_name (str): The name of the column to preprocess.\n",
    "        \n",
    "    Returns:\n",
    "        pd.DataFrame: The cleaned DataFrame.\n",
    "    \"\"\"\n",
    "    # Apply cleaning function to the column\n",
    "    df[column_name] = df[column_name].apply(clean_noisy_names)\n",
    "\n",
    "    # Remove extra delimiters left after cleaning\n",
    "    df[column_name] = df[column_name].str.replace(r'[/,]\\s*$', '', regex=True)\n",
    "\n",
    "    # Remove double delimiters //\n",
    "    df[column_name] = df[column_name].str.replace(r'//', '/', regex=True)\n",
    "\n",
    "    # Remove leading and trailing /\n",
    "    df[column_name] = df[column_name].str.replace(r'^/|/$', '', regex=True)\n",
    "\n",
    "    # Remove empty rows and rows with empty strings\n",
    "    df = df.dropna(subset=[column_name])\n",
    "    df = df[df[column_name] != '']\n",
    "\n",
    "    # Reset index for cleanliness\n",
    "    df = df.reset_index(drop=True)\n",
    "\n",
    "    return df\n",
    "\n",
    "# Example usage\n",
    "df = pd.read_csv(\"src/data/normalization_assesment_dataset_10k.csv\")  # Load your dataset\n",
    "df = preprocess_text_column(df, 'raw_comp_writers_text')  # Preprocess the column\n",
    "\n",
    "df_test = df.sample(frac=0.99, random_state=200)\n",
    "df_examples = df.drop(df_test.index)\n",
    "# Save the cleaned DataFrame to a CSV file\n",
    "df_examples.to_csv(\"src/data/normalization_assesment_dataset_10k_cleaned_examples.csv\", index=False)\n",
    "df_test[\"raw_comp_writers_text\"].to_csv(\"src/data/normalization_assesment_dataset_10k_cleaned_test.csv\", index=False)\n",
    "df.to_csv(\"src/data/normalization_assesment_dataset_10k_cleaned.csv\", index=False)"
   ]
  }
 ],
 "metadata": {
  "kernelspec": {
   "display_name": ".venv",
   "language": "python",
   "name": "python3"
  },
  "language_info": {
   "codemirror_mode": {
    "name": "ipython",
    "version": 3
   },
   "file_extension": ".py",
   "mimetype": "text/x-python",
   "name": "python",
   "nbconvert_exporter": "python",
   "pygments_lexer": "ipython3",
   "version": "3.11.7"
  }
 },
 "nbformat": 4,
 "nbformat_minor": 2
}
